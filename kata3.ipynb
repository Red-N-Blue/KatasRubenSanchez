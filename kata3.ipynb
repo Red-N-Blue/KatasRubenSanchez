{
 "cells": [
  {
   "cell_type": "markdown",
   "metadata": {},
   "source": [
    "modulo 03"
   ]
  },
  {
   "cell_type": "markdown",
   "metadata": {},
   "source": [
    "kata 3"
   ]
  },
  {
   "cell_type": "code",
   "execution_count": 10,
   "metadata": {},
   "outputs": [
    {
     "name": "stdout",
     "output_type": "stream",
     "text": [
      "advertencia\n"
     ]
    }
   ],
   "source": [
    "asteroide=49\n",
    " \n",
    "if asteroide > 25:\n",
    "       print (\"advertencia\")\n",
    "else:\n",
    "        print(\"sigue con tu dia\")"
   ]
  },
  {
   "cell_type": "code",
   "execution_count": 43,
   "metadata": {},
   "outputs": [
    {
     "name": "stdout",
     "output_type": "stream",
     "text": [
      "CORRREEEEEEEEEE\n"
     ]
    }
   ],
   "source": [
    "velocidad_de_asteroide=26\n",
    "dimension_de_asteroide=26\n",
    "if velocidad_de_asteroide>25 and dimension_de_asteroide>25:\n",
    " print (\"CORRREEEEEEEEEE\")\n",
    "elif velocidad_de_asteroide >= 20:\n",
    " print (\"pide un deseo\")\n",
    "elif dimension_de_asteroide<25:\n",
    "      print(\"todo tranquilo\")\n",
    "else:\n",
    " print (\"no hay nada en el cielo\")"
   ]
  },
  {
   "cell_type": "code",
   "execution_count": 51,
   "metadata": {},
   "outputs": [
    {
     "name": "stdout",
     "output_type": "stream",
     "text": [
      "mira al cielo\n"
     ]
    }
   ],
   "source": [
    "velocidad_de_asteroide=20\n",
    "if velocidad_de_asteroide >=20:\n",
    "    print (\"mira al cielo\")\n",
    "else:\n",
    "     print(\"sigue con tu vida\")\n",
    "    \n"
   ]
  }
 ],
 "metadata": {
  "interpreter": {
   "hash": "3a100879a5b4c5103ef885ee6e502f5a673575568c8b69e6768f0ec43b6dc4bd"
  },
  "kernelspec": {
   "display_name": "Python 3.10.2 64-bit (windows store)",
   "language": "python",
   "name": "python3"
  },
  "language_info": {
   "codemirror_mode": {
    "name": "ipython",
    "version": 3
   },
   "file_extension": ".py",
   "mimetype": "text/x-python",
   "name": "python",
   "nbconvert_exporter": "python",
   "pygments_lexer": "ipython3",
   "version": "3.10.2"
  },
  "orig_nbformat": 4
 },
 "nbformat": 4,
 "nbformat_minor": 2
}
