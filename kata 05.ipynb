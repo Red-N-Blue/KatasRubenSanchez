{
 "cells": [
  {
   "cell_type": "markdown",
   "metadata": {},
   "source": [
    "kata 05"
   ]
  },
  {
   "cell_type": "code",
   "execution_count": 10,
   "metadata": {},
   "outputs": [
    {
     "name": "stdout",
     "output_type": "stream",
     "text": [
      "628949330\n",
      "390577534\n"
     ]
    }
   ],
   "source": [
    "#ejercicio 1\n",
    "tierra=149597870\n",
    "jupiter=778547200 \n",
    "distancia= tierra - jupiter\n",
    "print(abs (distancia))\n",
    "print(round(abs (distancia*0.621)))"
   ]
  },
  {
   "cell_type": "code",
   "execution_count": 12,
   "metadata": {},
   "outputs": [
    {
     "name": "stdout",
     "output_type": "stream",
     "text": [
      "81042900\n"
     ]
    }
   ],
   "source": [
    "#ejercicio 2\n",
    "planeta_1=input(\"introduce la distancia del primer planeta\")\n",
    "planeta_2=input(\"introduce la distancia del segundo planeta\")\n",
    "planeta_1=int(planeta_1)\n",
    "planeta_2=int(planeta_2)\n",
    "distancia=planeta_1 - planeta_2 * 0.621\n",
    "print(abs(round (distancia)))"
   ]
  }
 ],
 "metadata": {
  "interpreter": {
   "hash": "c7983505094e1e083632453127c198137efee6bc5fe8833c1e191c0d53950fe6"
  },
  "kernelspec": {
   "display_name": "Python 3.10.2 64-bit",
   "language": "python",
   "name": "python3"
  },
  "language_info": {
   "codemirror_mode": {
    "name": "ipython",
    "version": 3
   },
   "file_extension": ".py",
   "mimetype": "text/x-python",
   "name": "python",
   "nbconvert_exporter": "python",
   "pygments_lexer": "ipython3",
   "version": "3.10.2"
  },
  "orig_nbformat": 4
 },
 "nbformat": 4,
 "nbformat_minor": 2
}
